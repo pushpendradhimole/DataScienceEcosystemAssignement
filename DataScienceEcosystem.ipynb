{
 "cells": [
  {
   "cell_type": "markdown",
   "id": "24947e4d-b6c5-4ad4-b154-50c26c8cae57",
   "metadata": {},
   "source": [
    "## H : Author\n",
    "Pushpendra Dhimole\n"
   ]
  },
  {
   "cell_type": "code",
   "execution_count": null,
   "id": "badaa950-809e-4a4a-9d1f-b10fbb027695",
   "metadata": {},
   "outputs": [],
   "source": []
  }
 ],
 "metadata": {
  "kernelspec": {
   "display_name": "Python 3 (ipykernel)",
   "language": "python",
   "name": "python3"
  },
  "language_info": {
   "codemirror_mode": {
    "name": "ipython",
    "version": 3
   },
   "file_extension": ".py",
   "mimetype": "text/x-python",
   "name": "python",
   "nbconvert_exporter": "python",
   "pygments_lexer": "ipython3",
   "version": "3.11.5"
  }
 },
 "nbformat": 4,
 "nbformat_minor": 5
}
